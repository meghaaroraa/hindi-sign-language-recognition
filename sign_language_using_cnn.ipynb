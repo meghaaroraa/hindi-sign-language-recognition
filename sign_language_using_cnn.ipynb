{
  "nbformat": 4,
  "nbformat_minor": 0,
  "metadata": {
    "colab": {
      "provenance": [],
      "mount_file_id": "12SSHXmdxguibeQVb3QI_DTtuACokCQmE",
      "authorship_tag": "ABX9TyOz7o3W9grVgtrdDd3gpsBE",
      "include_colab_link": true
    },
    "kernelspec": {
      "name": "python3",
      "display_name": "Python 3"
    },
    "language_info": {
      "name": "python"
    }
  },
  "cells": [
    {
      "cell_type": "markdown",
      "metadata": {
        "id": "view-in-github",
        "colab_type": "text"
      },
      "source": [
        "<a href=\"https://colab.research.google.com/github/meghaaroraa/hindi-sign-language-recognition/blob/main/sign_language_using_cnn.ipynb\" target=\"_parent\"><img src=\"https://colab.research.google.com/assets/colab-badge.svg\" alt=\"Open In Colab\"/></a>"
      ]
    },
    {
      "cell_type": "markdown",
      "source": [
        "# For adding hindi letters"
      ],
      "metadata": {
        "id": "L2bddnBAJwmZ"
      }
    },
    {
      "cell_type": "code",
      "execution_count": null,
      "metadata": {
        "id": "AEGD9DttJoER"
      },
      "outputs": [],
      "source": [
        "# -*- coding: utf-8 -*-"
      ]
    },
    {
      "cell_type": "markdown",
      "source": [
        "# Mouting google drive"
      ],
      "metadata": {
        "id": "uQzfb665J36G"
      }
    },
    {
      "cell_type": "code",
      "source": [
        "from google.colab import drive\n",
        "drive.mount('/content/drive')"
      ],
      "metadata": {
        "colab": {
          "base_uri": "https://localhost:8080/"
        },
        "id": "bxsg7Th2J-_w",
        "outputId": "13be8b50-ba84-405a-86c7-abd2af9cb6b0"
      },
      "execution_count": null,
      "outputs": [
        {
          "output_type": "stream",
          "name": "stdout",
          "text": [
            "Drive already mounted at /content/drive; to attempt to forcibly remount, call drive.mount(\"/content/drive\", force_remount=True).\n"
          ]
        }
      ]
    },
    {
      "cell_type": "markdown",
      "source": [
        "# Generating images"
      ],
      "metadata": {
        "id": "eJfD8T9nKJyj"
      }
    },
    {
      "cell_type": "code",
      "source": [
        "from PIL import Image\n",
        "import os\n",
        "from tensorflow.keras.preprocessing.image import ImageDataGenerator\n",
        "from tensorflow.keras.preprocessing import image\n",
        "import numpy as np"
      ],
      "metadata": {
        "id": "vAkClH72KU7p"
      },
      "execution_count": null,
      "outputs": []
    },
    {
      "cell_type": "markdown",
      "source": [
        "Increasing number of images"
      ],
      "metadata": {
        "id": "dj_1FSNENfoy"
      }
    },
    {
      "cell_type": "code",
      "source": [
        "from tensorflow.keras.preprocessing.image import ImageDataGenerator\n",
        "\n",
        "# Path to original dataset\n",
        "dataset_dir = '/content/drive/MyDrive/SIGN LANGUAGE - SUMMER INTERNSHIP/DATASET COPY'\n",
        "\n",
        "# Path to store the augmented images\n",
        "augmented_dir = '/content/drive/MyDrive/SIGN LANGUAGE - SUMMER INTERNSHIP/DATASET COPY'\n",
        "\n",
        "# Create the augmented dataset directory if it doesn't exist\n",
        "os.makedirs(augmented_dir, exist_ok=True)\n",
        "\n",
        "# Create an ImageDataGenerator instance with desired augmentation settings\n",
        "datagen = ImageDataGenerator(\n",
        "    rotation_range=30,      # Rotate images by random angle within ±30 degrees\n",
        "    width_shift_range=0.2,  # Shift images horizontally by 20% of the width\n",
        "    height_shift_range=0.2, # Shift images vertically by 20% of the height\n",
        "    shear_range=0.2,        # Apply shear transformations with shear angle up to 20%\n",
        "    zoom_range=0.2,         # Zoom images by up to 20%\n",
        "    horizontal_flip=True,   # Flip images horizontally\n",
        "    vertical_flip=True,     # Flip images vertically\n",
        "    brightness_range=(0.8, 1.2)  # Adjust brightness within the range\n",
        ")\n",
        "\n",
        "# Iterate over the classes in the original dataset\n",
        "for class_name in os.listdir(dataset_dir):\n",
        "    class_dir = os.path.join(dataset_dir, class_name)\n",
        "    augmented_class_dir = os.path.join(augmented_dir, class_name)\n",
        "    os.makedirs(augmented_class_dir, exist_ok=True)\n",
        "\n",
        "    # Generate augmented images for each image in the original dataset\n",
        "    for image_name in os.listdir(class_dir):\n",
        "        image_path = os.path.join(class_dir, image_name)\n",
        "        image = Image.open(image_path)\n",
        "        image = image.convert(\"RGB\")\n",
        "        image = image.resize((64, 64))  # Resize the image if necessary\n",
        "\n",
        "        # Generate multiple augmented images from each original image\n",
        "        aug_images = datagen.flow(np.array(image).reshape(1, 64, 64, 3),\n",
        "                                  batch_size=1, save_to_dir=augmented_class_dir,\n",
        "                                  save_prefix='aug', save_format='jpg')\n",
        "\n",
        "        # Specify the number of augmented images you want to generate per original image\n",
        "        num_augmented_images = 10\n",
        "\n",
        "        for i in range(num_augmented_images):\n",
        "            next(aug_images)"
      ],
      "metadata": {
        "id": "XZoNNhksKVd0"
      },
      "execution_count": null,
      "outputs": []
    },
    {
      "cell_type": "markdown",
      "source": [
        "Resizing images"
      ],
      "metadata": {
        "id": "_fBx4kSDNi5r"
      }
    },
    {
      "cell_type": "code",
      "source": [
        "from PIL import Image\n",
        "import os\n",
        "\n",
        "# Path to dataset directory\n",
        "dataset_dir = '/content/drive/MyDrive/SIGN LANGUAGE - SUMMER INTERNSHIP/DATASET COPY'\n",
        "\n",
        "# Target size for resizing\n",
        "target_size = (64, 64)\n",
        "\n",
        "# Iterate over the folders in the dataset directory\n",
        "for folder_name in os.listdir(dataset_dir):\n",
        "    folder_path = os.path.join(dataset_dir, folder_name)\n",
        "\n",
        "    # Check if the path is a directory\n",
        "    if os.path.isdir(folder_path):\n",
        "\n",
        "        # Iterate over the images in the folder\n",
        "        for filename in os.listdir(folder_path):\n",
        "            image_path = os.path.join(folder_path, filename)\n",
        "\n",
        "            # Open the image\n",
        "            image = Image.open(image_path)\n",
        "\n",
        "            # Resize the image to the target size\n",
        "            resized_image = image.resize(target_size)\n",
        "\n",
        "            # Save the resized image, overwriting the original image if needed\n",
        "            resized_image.save(image_path)"
      ],
      "metadata": {
        "id": "bhNFrcmpL9C6"
      },
      "execution_count": null,
      "outputs": []
    },
    {
      "cell_type": "code",
      "source": [
        "from PIL import Image\n",
        "\n",
        "# Path to representative image\n",
        "image_path = '/content/drive/MyDrive/SIGN LANGUAGE - SUMMER INTERNSHIP/DATASET COPY/अ/20230613_132712.jpg'\n",
        "\n",
        "# Open the image\n",
        "image = Image.open(image_path)\n",
        "\n",
        "# Get the dimensions of the image\n",
        "image_width, image_height = image.size\n",
        "num_channels = len(image.getbands())\n",
        "\n",
        "# Print the input shape\n",
        "print(\"Input shape:\", (image_height, image_width, num_channels))"
      ],
      "metadata": {
        "colab": {
          "base_uri": "https://localhost:8080/"
        },
        "id": "nPtqExuSKrFe",
        "outputId": "90726bc0-f191-4739-9691-2c2c99a96040"
      },
      "execution_count": null,
      "outputs": [
        {
          "output_type": "stream",
          "name": "stdout",
          "text": [
            "Input shape: (64, 64, 3)\n"
          ]
        }
      ]
    },
    {
      "cell_type": "markdown",
      "source": [
        "Diving into train and test dataset"
      ],
      "metadata": {
        "id": "LKbYIH5_NmSw"
      }
    },
    {
      "cell_type": "code",
      "source": [
        "import os\n",
        "import shutil\n",
        "from sklearn.model_selection import train_test_split\n",
        "\n",
        "# Path to original dataset\n",
        "dataset_dir = '/content/drive/MyDrive/SIGN LANGUAGE - SUMMER INTERNSHIP/DATASET COPY'\n",
        "\n",
        "# Path to create the train and test directories\n",
        "train_dir = '/content/drive/MyDrive/SIGN LANGUAGE - SUMMER INTERNSHIP/DATASET/train'\n",
        "test_dir = '/content/drive/MyDrive/SIGN LANGUAGE - SUMMER INTERNSHIP/DATASET/test'\n",
        "\n",
        "# Set the test size (percentage)\n",
        "test_size = 0.2\n",
        "\n",
        "# Create the train and test directories if they don't exist\n",
        "os.makedirs(train_dir, exist_ok=True)\n",
        "os.makedirs(test_dir, exist_ok=True)\n",
        "\n",
        "# Lists to store train and test samples\n",
        "train_samples = []\n",
        "test_samples = []\n",
        "\n",
        "# Iterate over the classes in the original dataset\n",
        "for class_name in os.listdir(dataset_dir):\n",
        "    class_dir = os.path.join(dataset_dir, class_name)\n",
        "    class_samples = os.listdir(class_dir)\n",
        "\n",
        "    # Split the samples into train and test sets\n",
        "    train_class_samples, test_class_samples = train_test_split(class_samples, test_size=test_size)\n",
        "\n",
        "    # Append the train and test samples to the respective lists\n",
        "    train_samples.extend(train_class_samples)\n",
        "    test_samples.extend(test_class_samples)\n",
        "\n",
        "    # Create class directories in train and test directories\n",
        "    train_class_dir = os.path.join(train_dir, class_name)\n",
        "    test_class_dir = os.path.join(test_dir, class_name)\n",
        "    os.makedirs(train_class_dir, exist_ok=True)\n",
        "    os.makedirs(test_class_dir, exist_ok=True)\n",
        "\n",
        "    # Move images to respective train and test directories\n",
        "    for sample_name in train_class_samples:\n",
        "        src_path = os.path.join(class_dir, sample_name)\n",
        "        dst_path = os.path.join(train_class_dir, sample_name)\n",
        "        shutil.move(src_path, dst_path)\n",
        "\n",
        "    for sample_name in test_class_samples:\n",
        "        src_path = os.path.join(class_dir, sample_name)\n",
        "        dst_path = os.path.join(test_class_dir, sample_name)\n",
        "        shutil.move(src_path, dst_path)\n",
        "\n",
        "# Print the number of samples in the train and test sets\n",
        "print(f\"Number of train samples: {len(train_samples)}\")\n",
        "print(f\"Number of test samples: {len(test_samples)}\")"
      ],
      "metadata": {
        "colab": {
          "base_uri": "https://localhost:8080/"
        },
        "id": "wNTQxvvgL5DG",
        "outputId": "27c53998-8975-4a45-e9cc-674015f5efbc"
      },
      "execution_count": null,
      "outputs": [
        {
          "output_type": "stream",
          "name": "stdout",
          "text": [
            "Number of train samples: 1186\n",
            "Number of test samples: 317\n"
          ]
        }
      ]
    },
    {
      "cell_type": "markdown",
      "source": [
        "# Training the model"
      ],
      "metadata": {
        "id": "lnWJ27AONqps"
      }
    },
    {
      "cell_type": "code",
      "source": [
        "# Path to dataset\n",
        "train_dir = '/content/drive/MyDrive/SIGN LANGUAGE - SUMMER INTERNSHIP/DATASET/train'\n",
        "test_dir = '/content/drive/MyDrive/SIGN LANGUAGE - SUMMER INTERNSHIP/DATASET/test'"
      ],
      "metadata": {
        "id": "Ao7tUbK3MqIn"
      },
      "execution_count": null,
      "outputs": []
    },
    {
      "cell_type": "code",
      "source": [
        "import os\n",
        "from tensorflow import keras\n",
        "from tensorflow.keras import layers"
      ],
      "metadata": {
        "id": "IPKivetmOM-g"
      },
      "execution_count": null,
      "outputs": []
    },
    {
      "cell_type": "code",
      "source": [
        "# Define model parameters\n",
        "num_classes = 43\n",
        "input_shape = (64, 64, 3)"
      ],
      "metadata": {
        "id": "LbqattXsNyvZ"
      },
      "execution_count": null,
      "outputs": []
    },
    {
      "cell_type": "code",
      "source": [
        "# Data preprocessing and augmentation\n",
        "train_data = keras.preprocessing.image.ImageDataGenerator(\n",
        "    rescale=1.0/255,  # Normalize pixel values to [0, 1]\n",
        "    rotation_range=10,  # Augmentation: randomly rotate images by 10 degrees\n",
        "    width_shift_range=0.1,  # Augmentation: randomly shift images horizontally by 10% of the width\n",
        "    height_shift_range=0.1,  # Augmentation: randomly shift images vertically by 10% of the height\n",
        "    shear_range=0.1,  # Augmentation: randomly apply shearing transformations\n",
        "    zoom_range=0.1,  # Augmentation: randomly zoom into images\n",
        ")\n",
        "test_data = keras.preprocessing.image.ImageDataGenerator(rescale=1.0/255)"
      ],
      "metadata": {
        "id": "EI_AAEmxOFFg"
      },
      "execution_count": null,
      "outputs": []
    },
    {
      "cell_type": "code",
      "source": [
        "# Load and augment training data\n",
        "train_generator = train_data.flow_from_directory(\n",
        "    train_dir,\n",
        "    target_size=(input_shape[0], input_shape[1]),\n",
        "    batch_size=32,\n",
        "    class_mode='categorical'\n",
        ")"
      ],
      "metadata": {
        "colab": {
          "base_uri": "https://localhost:8080/"
        },
        "id": "ty3Zy3kxOIqO",
        "outputId": "f2a37ad4-d8ca-4200-c455-2bfb2028192c"
      },
      "execution_count": null,
      "outputs": [
        {
          "output_type": "stream",
          "name": "stdout",
          "text": [
            "Found 1186 images belonging to 43 classes.\n"
          ]
        }
      ]
    },
    {
      "cell_type": "code",
      "source": [
        "# Load and rescale test data (without augmentation)\n",
        "test_generator = test_data.flow_from_directory(\n",
        "    test_dir,\n",
        "    target_size=(input_shape[0], input_shape[1]),\n",
        "    batch_size=32,\n",
        "    class_mode='categorical'\n",
        ")"
      ],
      "metadata": {
        "colab": {
          "base_uri": "https://localhost:8080/"
        },
        "id": "0ZlPaNF_OR5s",
        "outputId": "bcd710f5-56b9-4c8f-95d4-97d8397d18af"
      },
      "execution_count": null,
      "outputs": [
        {
          "output_type": "stream",
          "name": "stdout",
          "text": [
            "Found 317 images belonging to 43 classes.\n"
          ]
        }
      ]
    },
    {
      "cell_type": "code",
      "source": [
        "# Create the CNN model\n",
        "model = keras.Sequential([\n",
        "    layers.Conv2D(32, kernel_size=(3, 3), activation='relu', input_shape=input_shape),\n",
        "    layers.MaxPooling2D(pool_size=(2, 2)),\n",
        "    layers.Conv2D(64, kernel_size=(3, 3), activation='relu'),\n",
        "    layers.MaxPooling2D(pool_size=(2, 2)),\n",
        "    layers.Conv2D(64, kernel_size=(3, 3), activation='relu'),\n",
        "    layers.MaxPooling2D(pool_size=(2, 2)),\n",
        "\n",
        "    layers.Flatten(),\n",
        "\n",
        "    layers.Dense(128, activation='relu'),\n",
        "    layers.Dense(num_classes, activation='softmax')\n",
        "])"
      ],
      "metadata": {
        "id": "0FIGrWjYOT26"
      },
      "execution_count": null,
      "outputs": []
    },
    {
      "cell_type": "code",
      "source": [
        "# Compile the model\n",
        "model.compile(loss='categorical_crossentropy', optimizer='adam', metrics=['accuracy'])"
      ],
      "metadata": {
        "id": "uLW_8d9NOWHh"
      },
      "execution_count": null,
      "outputs": []
    },
    {
      "cell_type": "code",
      "source": [
        "# Train the model\n",
        "model.fit(\n",
        "    train_generator,\n",
        "    epochs=3,\n",
        "    validation_data=test_generator\n",
        ")"
      ],
      "metadata": {
        "colab": {
          "base_uri": "https://localhost:8080/"
        },
        "id": "c1EFn1GzOYdh",
        "outputId": "827906a3-3f14-43eb-99a0-077fc89e60eb"
      },
      "execution_count": null,
      "outputs": [
        {
          "output_type": "stream",
          "name": "stdout",
          "text": [
            "Epoch 1/3\n",
            "38/38 [==============================] - 20s 521ms/step - loss: 0.0604 - accuracy: 0.9798 - val_loss: 1.4039 - val_accuracy: 0.7508\n",
            "Epoch 2/3\n",
            "38/38 [==============================] - 19s 500ms/step - loss: 0.0637 - accuracy: 0.9815 - val_loss: 1.5600 - val_accuracy: 0.7413\n",
            "Epoch 3/3\n",
            "38/38 [==============================] - 18s 470ms/step - loss: 0.0379 - accuracy: 0.9890 - val_loss: 1.8775 - val_accuracy: 0.7035\n"
          ]
        },
        {
          "output_type": "execute_result",
          "data": {
            "text/plain": [
              "<keras.callbacks.History at 0x7fc12bc2be80>"
            ]
          },
          "metadata": {},
          "execution_count": 186
        }
      ]
    },
    {
      "cell_type": "code",
      "source": [
        "# Save the trained model\n",
        "model.save('sign_language_model.h5')"
      ],
      "metadata": {
        "id": "6woOj1u9Oa5l"
      },
      "execution_count": null,
      "outputs": []
    },
    {
      "cell_type": "code",
      "source": [
        "import os\n",
        "import numpy as np\n",
        "from PIL import Image\n",
        "from tensorflow import keras\n",
        "\n",
        "# Load the trained model from the .h5 file\n",
        "model = keras.models.load_model('/content/sign_language_model (13).h5')\n",
        "\n",
        "# Path to your test image\n",
        "test_image_path = '/content/drive/MyDrive/SIGN LANGUAGE - SUMMER INTERNSHIP/DATASET/test/अ/अ_2.jpg'\n",
        "\n",
        "# Load and preprocess the test image\n",
        "test_image = Image.open(test_image_path)\n",
        "test_image = test_image.resize((64, 64))  # Resize the image to match the model's input shape\n",
        "test_image = np.array(test_image) / 255.0  # Normalize the image pixel values\n",
        "\n",
        "# Reshape the image to match the input shape expected by the model\n",
        "test_image = np.reshape(test_image, (1, 64, 64, 3))\n",
        "\n",
        "# Make predictions on the test image\n",
        "predictions = model.predict(test_image)\n",
        "\n",
        "# Get the predicted class (index with the highest probability)\n",
        "predicted_class_index = np.argmax(predictions)\n",
        "\n",
        "# Assuming you have a list of classes, you can retrieve the predicted class label\n",
        "classes = ['अ','आ','इ','ई','उ','ऊ','ए','ऐ','ओ','औ',\n",
        "           'क','क्ष','ख','ग','घ','च','छ','ज','ज्ञ','झ','ट','ठ','ड','ढ','ण','त','थ','द','ध','न','प',\n",
        "           'फ','ब','भ','म','य','र','ल','ळ','व','श','स','ह']\n",
        "predicted_class_label = classes[predicted_class_index]\n",
        "\n",
        "# Print the predicted class label\n",
        "print('Predicted class:', predicted_class_label)"
      ],
      "metadata": {
        "colab": {
          "base_uri": "https://localhost:8080/"
        },
        "id": "aBel0NZoPGPc",
        "outputId": "c31d982b-a854-4f51-b714-316ad75d8815"
      },
      "execution_count": null,
      "outputs": [
        {
          "output_type": "stream",
          "name": "stdout",
          "text": [
            "1/1 [==============================] - 0s 41ms/step\n",
            "Predicted class: अ\n"
          ]
        }
      ]
    },
    {
      "cell_type": "markdown",
      "source": [
        "#Testing the model"
      ],
      "metadata": {
        "id": "9OrzLGeOYMHD"
      }
    },
    {
      "cell_type": "code",
      "source": [
        "import os\n",
        "import numpy as np\n",
        "from PIL import Image\n",
        "import tensorflow as tf\n",
        "\n",
        "# Enable eager execution\n",
        "tf.config.run_functions_eagerly(True)\n",
        "\n",
        "model = keras.models.load_model('/content/sign_language_model.h5')"
      ],
      "metadata": {
        "id": "iwuxET39rvgE"
      },
      "execution_count": null,
      "outputs": []
    },
    {
      "cell_type": "code",
      "source": [
        "def get_ground_truth_label(filename):\n",
        "    # Extract the class or category information from the filename\n",
        "    label = filename.split('_')[0]\n",
        "\n",
        "    # Map the label to a numeric value\n",
        "    label_mapping = {'अ': 0, 'आ': 1, 'इ': 2, 'ई':3, 'उ':4, 'ऊ':5, 'ए':6, 'ऐ':7, 'ओ':8, 'औ':9,\n",
        "           'क':10, 'क्ष':11, 'ख':12, 'ग':13, 'घ':14, 'च':15, 'छ':16, 'ज':17, 'ज्ञ':18, 'झ':19, 'ट':20,\n",
        "            'ठ':21, 'ड':22, 'ढ':23, 'ण':24, 'त':25, 'थ':26, 'द':27, 'ध':28, 'न':29, 'प':30,\n",
        "           'फ':31, 'ब':32, 'भ':33, 'म':34, 'य':35, 'र':36, 'ल':37, 'ळ':38, 'व':39, 'श':40, 'स':41, 'ह':42}\n",
        "\n",
        "    # Return the ground truth label\n",
        "    return label_mapping[label]"
      ],
      "metadata": {
        "id": "bwoHDp2ttvrm"
      },
      "execution_count": null,
      "outputs": []
    },
    {
      "cell_type": "code",
      "source": [
        "import os\n",
        "import numpy as np\n",
        "from PIL import Image\n",
        "\n",
        "# Path to the parent directory containing the image folders\n",
        "parent_dir = '/content/drive/MyDrive/SIGN LANGUAGE - SUMMER INTERNSHIP/DATASET/test'\n",
        "\n",
        "# Initialize variables for overall accuracy calculation\n",
        "total_images = 0\n",
        "total_correct_predictions = 0\n",
        "\n",
        "# Iterate over the folders\n",
        "for folder_name in os.listdir(parent_dir):\n",
        "    folder_path = os.path.join(parent_dir, folder_name)\n",
        "\n",
        "    # Initialize variables for folder-wise accuracy calculation\n",
        "    folder_images = 0\n",
        "    folder_correct_predictions = 0\n",
        "\n",
        "    # Iterate over the images in the current folder\n",
        "    for filename in os.listdir(folder_path):\n",
        "        image_path = os.path.join(folder_path, filename)\n",
        "\n",
        "        # Load and preprocess the image\n",
        "        image = Image.open(image_path)\n",
        "        image = image.resize((64, 64))  # Adjust the size based on your model's input requirements\n",
        "        image = np.array(image) / 255.0  # Normalize the pixel values\n",
        "\n",
        "        # Make a prediction\n",
        "        prediction = model.predict(np.expand_dims(image, axis=0))\n",
        "        predicted_label = np.argmax(prediction)\n",
        "\n",
        "        # Compare with ground truth label\n",
        "        ground_truth_label = get_ground_truth_label(filename)  # Implement your own function to get the ground truth label\n",
        "        if predicted_label == ground_truth_label:\n",
        "            folder_correct_predictions += 1\n",
        "\n",
        "        folder_images += 1\n",
        "        # total_correct_predictions += 1\n",
        "\n",
        "    folder_accuracy = folder_correct_predictions / folder_images\n",
        "    print(f\"Accuracy for folder {folder_name}: {folder_accuracy}\")\n",
        "\n",
        "    total_images += folder_images\n",
        "    total_correct_predictions += folder_correct_predictions\n",
        "\n",
        "overall_accuracy = total_correct_predictions / total_images\n",
        "print(f\"Overall accuracy: {overall_accuracy}\")"
      ],
      "metadata": {
        "colab": {
          "base_uri": "https://localhost:8080/"
        },
        "id": "cz6z5kf1ste1",
        "outputId": "0e86cdd9-dca7-4014-cd74-9304b856b8b8"
      },
      "execution_count": null,
      "outputs": [
        {
          "output_type": "stream",
          "name": "stdout",
          "text": [
            "1/1 [==============================] - 0s 42ms/step\n",
            "1/1 [==============================] - 0s 35ms/step\n",
            "1/1 [==============================] - 0s 38ms/step\n",
            "1/1 [==============================] - 0s 38ms/step\n",
            "1/1 [==============================] - 0s 39ms/step\n",
            "1/1 [==============================] - 0s 62ms/step\n",
            "1/1 [==============================] - 0s 34ms/step\n",
            "Accuracy for folder क्ष: 0.7142857142857143\n",
            "1/1 [==============================] - 0s 34ms/step\n",
            "1/1 [==============================] - 0s 31ms/step\n",
            "1/1 [==============================] - 0s 32ms/step\n",
            "1/1 [==============================] - 0s 31ms/step\n",
            "1/1 [==============================] - 0s 38ms/step\n",
            "1/1 [==============================] - 0s 35ms/step\n",
            "1/1 [==============================] - 0s 32ms/step\n",
            "1/1 [==============================] - 0s 33ms/step\n",
            "1/1 [==============================] - 0s 38ms/step\n",
            "Accuracy for folder ळ: 0.7777777777777778\n",
            "1/1 [==============================] - 0s 32ms/step\n",
            "1/1 [==============================] - 0s 37ms/step\n",
            "1/1 [==============================] - 0s 35ms/step\n",
            "1/1 [==============================] - 0s 41ms/step\n",
            "1/1 [==============================] - 0s 35ms/step\n",
            "1/1 [==============================] - 0s 35ms/step\n",
            "1/1 [==============================] - 0s 41ms/step\n",
            "Accuracy for folder ज्ञ: 1.0\n",
            "1/1 [==============================] - 0s 49ms/step\n",
            "1/1 [==============================] - 0s 43ms/step\n",
            "1/1 [==============================] - 0s 48ms/step\n",
            "1/1 [==============================] - 0s 45ms/step\n",
            "1/1 [==============================] - 0s 43ms/step\n",
            "1/1 [==============================] - 0s 39ms/step\n",
            "1/1 [==============================] - 0s 44ms/step\n",
            "Accuracy for folder आ: 0.7142857142857143\n",
            "1/1 [==============================] - 0s 39ms/step\n",
            "1/1 [==============================] - 0s 40ms/step\n",
            "1/1 [==============================] - 0s 40ms/step\n",
            "1/1 [==============================] - 0s 53ms/step\n",
            "1/1 [==============================] - 0s 38ms/step\n",
            "1/1 [==============================] - 0s 35ms/step\n",
            "1/1 [==============================] - 0s 35ms/step\n",
            "1/1 [==============================] - 0s 33ms/step\n",
            "1/1 [==============================] - 0s 36ms/step\n",
            "1/1 [==============================] - 0s 40ms/step\n",
            "1/1 [==============================] - 0s 43ms/step\n",
            "Accuracy for folder अ: 0.9090909090909091\n",
            "1/1 [==============================] - 0s 40ms/step\n",
            "1/1 [==============================] - 0s 35ms/step\n",
            "1/1 [==============================] - 0s 42ms/step\n",
            "1/1 [==============================] - 0s 31ms/step\n",
            "1/1 [==============================] - 0s 31ms/step\n",
            "1/1 [==============================] - 0s 35ms/step\n",
            "1/1 [==============================] - 0s 32ms/step\n",
            "1/1 [==============================] - 0s 34ms/step\n",
            "1/1 [==============================] - 0s 37ms/step\n",
            "Accuracy for folder ई: 0.8888888888888888\n",
            "1/1 [==============================] - 0s 41ms/step\n",
            "1/1 [==============================] - 0s 31ms/step\n",
            "1/1 [==============================] - 0s 34ms/step\n",
            "1/1 [==============================] - 0s 34ms/step\n",
            "1/1 [==============================] - 0s 43ms/step\n",
            "Accuracy for folder इ: 0.6\n",
            "1/1 [==============================] - 0s 37ms/step\n",
            "1/1 [==============================] - 0s 48ms/step\n",
            "1/1 [==============================] - 0s 36ms/step\n",
            "1/1 [==============================] - 0s 37ms/step\n",
            "1/1 [==============================] - 0s 39ms/step\n",
            "1/1 [==============================] - 0s 37ms/step\n",
            "1/1 [==============================] - 0s 39ms/step\n",
            "1/1 [==============================] - 0s 34ms/step\n",
            "1/1 [==============================] - 0s 41ms/step\n",
            "Accuracy for folder ए: 0.7777777777777778\n",
            "1/1 [==============================] - 0s 38ms/step\n",
            "1/1 [==============================] - 0s 32ms/step\n",
            "1/1 [==============================] - 0s 35ms/step\n",
            "1/1 [==============================] - 0s 35ms/step\n",
            "1/1 [==============================] - 0s 34ms/step\n",
            "Accuracy for folder ऊ: 0.6\n",
            "1/1 [==============================] - 0s 35ms/step\n",
            "1/1 [==============================] - 0s 35ms/step\n",
            "1/1 [==============================] - 0s 34ms/step\n",
            "1/1 [==============================] - 0s 40ms/step\n",
            "1/1 [==============================] - 0s 34ms/step\n",
            "1/1 [==============================] - 0s 39ms/step\n",
            "1/1 [==============================] - 0s 41ms/step\n",
            "1/1 [==============================] - 0s 42ms/step\n",
            "1/1 [==============================] - 0s 48ms/step\n",
            "Accuracy for folder उ: 0.8888888888888888\n",
            "1/1 [==============================] - 0s 58ms/step\n",
            "1/1 [==============================] - 0s 37ms/step\n",
            "1/1 [==============================] - 0s 53ms/step\n",
            "1/1 [==============================] - 0s 50ms/step\n",
            "1/1 [==============================] - 0s 65ms/step\n",
            "1/1 [==============================] - 0s 48ms/step\n",
            "1/1 [==============================] - 0s 46ms/step\n",
            "Accuracy for folder औ: 0.7142857142857143\n",
            "1/1 [==============================] - 0s 49ms/step\n",
            "1/1 [==============================] - 0s 52ms/step\n",
            "1/1 [==============================] - 0s 64ms/step\n",
            "1/1 [==============================] - 0s 44ms/step\n",
            "1/1 [==============================] - 0s 43ms/step\n",
            "1/1 [==============================] - 0s 50ms/step\n",
            "1/1 [==============================] - 0s 55ms/step\n",
            "Accuracy for folder ओ: 0.7142857142857143\n",
            "1/1 [==============================] - 0s 50ms/step\n",
            "1/1 [==============================] - 0s 53ms/step\n",
            "1/1 [==============================] - 0s 49ms/step\n",
            "1/1 [==============================] - 0s 50ms/step\n",
            "1/1 [==============================] - 0s 51ms/step\n",
            "1/1 [==============================] - 0s 53ms/step\n",
            "1/1 [==============================] - 0s 53ms/step\n",
            "1/1 [==============================] - 0s 54ms/step\n",
            "1/1 [==============================] - 0s 52ms/step\n",
            "Accuracy for folder ऐ: 1.0\n",
            "1/1 [==============================] - 0s 49ms/step\n",
            "1/1 [==============================] - 0s 48ms/step\n",
            "1/1 [==============================] - 0s 55ms/step\n",
            "1/1 [==============================] - 0s 46ms/step\n",
            "1/1 [==============================] - 0s 47ms/step\n",
            "1/1 [==============================] - 0s 62ms/step\n",
            "1/1 [==============================] - 0s 48ms/step\n",
            "Accuracy for folder क: 1.0\n",
            "1/1 [==============================] - 0s 62ms/step\n",
            "1/1 [==============================] - 0s 32ms/step\n",
            "1/1 [==============================] - 0s 33ms/step\n",
            "1/1 [==============================] - 0s 35ms/step\n",
            "1/1 [==============================] - 0s 34ms/step\n",
            "1/1 [==============================] - 0s 32ms/step\n",
            "1/1 [==============================] - 0s 32ms/step\n",
            "Accuracy for folder ख: 0.7142857142857143\n",
            "1/1 [==============================] - 0s 32ms/step\n",
            "1/1 [==============================] - 0s 30ms/step\n",
            "1/1 [==============================] - 0s 31ms/step\n",
            "1/1 [==============================] - 0s 30ms/step\n",
            "1/1 [==============================] - 0s 33ms/step\n",
            "1/1 [==============================] - 0s 35ms/step\n",
            "1/1 [==============================] - 0s 32ms/step\n",
            "Accuracy for folder ग: 0.8571428571428571\n",
            "1/1 [==============================] - 0s 42ms/step\n",
            "1/1 [==============================] - 0s 36ms/step\n",
            "1/1 [==============================] - 0s 35ms/step\n",
            "1/1 [==============================] - 0s 32ms/step\n",
            "1/1 [==============================] - 0s 34ms/step\n",
            "1/1 [==============================] - 0s 40ms/step\n",
            "1/1 [==============================] - 0s 34ms/step\n",
            "Accuracy for folder घ: 0.7142857142857143\n",
            "1/1 [==============================] - 0s 34ms/step\n",
            "1/1 [==============================] - 0s 36ms/step\n",
            "1/1 [==============================] - 0s 33ms/step\n",
            "1/1 [==============================] - 0s 32ms/step\n",
            "1/1 [==============================] - 0s 45ms/step\n",
            "1/1 [==============================] - 0s 43ms/step\n",
            "1/1 [==============================] - 0s 36ms/step\n",
            "1/1 [==============================] - 0s 39ms/step\n",
            "1/1 [==============================] - 0s 44ms/step\n",
            "Accuracy for folder च: 0.7777777777777778\n",
            "1/1 [==============================] - 0s 41ms/step\n",
            "1/1 [==============================] - 0s 40ms/step\n",
            "1/1 [==============================] - 0s 40ms/step\n",
            "1/1 [==============================] - 0s 38ms/step\n",
            "1/1 [==============================] - 0s 36ms/step\n",
            "1/1 [==============================] - 0s 40ms/step\n",
            "1/1 [==============================] - 0s 34ms/step\n",
            "Accuracy for folder ज: 0.8571428571428571\n",
            "1/1 [==============================] - 0s 37ms/step\n",
            "1/1 [==============================] - 0s 35ms/step\n",
            "1/1 [==============================] - 0s 37ms/step\n",
            "1/1 [==============================] - 0s 33ms/step\n",
            "1/1 [==============================] - 0s 32ms/step\n",
            "1/1 [==============================] - 0s 32ms/step\n",
            "1/1 [==============================] - 0s 33ms/step\n",
            "1/1 [==============================] - 0s 37ms/step\n",
            "1/1 [==============================] - 0s 32ms/step\n",
            "Accuracy for folder छ: 0.7777777777777778\n",
            "1/1 [==============================] - 0s 33ms/step\n",
            "1/1 [==============================] - 0s 39ms/step\n",
            "1/1 [==============================] - 0s 41ms/step\n",
            "1/1 [==============================] - 0s 41ms/step\n",
            "1/1 [==============================] - 0s 43ms/step\n",
            "1/1 [==============================] - 0s 37ms/step\n",
            "1/1 [==============================] - 0s 41ms/step\n",
            "Accuracy for folder झ: 0.5714285714285714\n",
            "1/1 [==============================] - 0s 39ms/step\n",
            "1/1 [==============================] - 0s 34ms/step\n",
            "1/1 [==============================] - 0s 35ms/step\n",
            "1/1 [==============================] - 0s 40ms/step\n",
            "1/1 [==============================] - 0s 40ms/step\n",
            "1/1 [==============================] - 0s 38ms/step\n",
            "1/1 [==============================] - 0s 46ms/step\n",
            "Accuracy for folder ठ: 0.8571428571428571\n",
            "1/1 [==============================] - 0s 38ms/step\n",
            "1/1 [==============================] - 0s 37ms/step\n",
            "1/1 [==============================] - 0s 35ms/step\n",
            "1/1 [==============================] - 0s 35ms/step\n",
            "1/1 [==============================] - 0s 37ms/step\n",
            "1/1 [==============================] - 0s 32ms/step\n",
            "1/1 [==============================] - 0s 35ms/step\n",
            "Accuracy for folder ट: 0.7142857142857143\n",
            "1/1 [==============================] - 0s 33ms/step\n",
            "1/1 [==============================] - 0s 35ms/step\n",
            "1/1 [==============================] - 0s 33ms/step\n",
            "1/1 [==============================] - 0s 37ms/step\n",
            "1/1 [==============================] - 0s 33ms/step\n",
            "1/1 [==============================] - 0s 104ms/step\n",
            "1/1 [==============================] - 0s 42ms/step\n",
            "Accuracy for folder ड: 0.7142857142857143\n",
            "1/1 [==============================] - 0s 32ms/step\n",
            "1/1 [==============================] - 0s 39ms/step\n",
            "1/1 [==============================] - 0s 35ms/step\n",
            "1/1 [==============================] - 0s 35ms/step\n",
            "1/1 [==============================] - 0s 32ms/step\n",
            "1/1 [==============================] - 0s 143ms/step\n",
            "1/1 [==============================] - 0s 33ms/step\n",
            "Accuracy for folder त: 0.42857142857142855\n",
            "1/1 [==============================] - 0s 32ms/step\n",
            "1/1 [==============================] - 0s 34ms/step\n",
            "1/1 [==============================] - 0s 41ms/step\n",
            "1/1 [==============================] - 0s 32ms/step\n",
            "1/1 [==============================] - 0s 32ms/step\n",
            "1/1 [==============================] - 0s 82ms/step\n",
            "1/1 [==============================] - 0s 34ms/step\n",
            "Accuracy for folder ण: 0.2857142857142857\n",
            "1/1 [==============================] - 0s 34ms/step\n",
            "1/1 [==============================] - 0s 31ms/step\n",
            "1/1 [==============================] - 0s 31ms/step\n",
            "1/1 [==============================] - 0s 33ms/step\n",
            "1/1 [==============================] - 0s 33ms/step\n",
            "1/1 [==============================] - 0s 50ms/step\n",
            "1/1 [==============================] - 0s 34ms/step\n",
            "Accuracy for folder ढ: 1.0\n",
            "1/1 [==============================] - 0s 32ms/step\n",
            "1/1 [==============================] - 0s 35ms/step\n",
            "1/1 [==============================] - 0s 33ms/step\n",
            "1/1 [==============================] - 0s 31ms/step\n",
            "1/1 [==============================] - 0s 53ms/step\n",
            "1/1 [==============================] - 0s 46ms/step\n",
            "1/1 [==============================] - 0s 47ms/step\n",
            "Accuracy for folder थ: 1.0\n",
            "1/1 [==============================] - 0s 56ms/step\n",
            "1/1 [==============================] - 0s 46ms/step\n",
            "1/1 [==============================] - 0s 49ms/step\n",
            "1/1 [==============================] - 0s 46ms/step\n",
            "1/1 [==============================] - 0s 46ms/step\n",
            "1/1 [==============================] - 0s 47ms/step\n",
            "1/1 [==============================] - 0s 45ms/step\n",
            "Accuracy for folder द: 0.7142857142857143\n",
            "1/1 [==============================] - 0s 59ms/step\n",
            "1/1 [==============================] - 0s 45ms/step\n",
            "1/1 [==============================] - 0s 56ms/step\n",
            "1/1 [==============================] - 0s 50ms/step\n",
            "1/1 [==============================] - 0s 56ms/step\n",
            "1/1 [==============================] - 0s 67ms/step\n",
            "1/1 [==============================] - 0s 49ms/step\n",
            "Accuracy for folder ध: 0.7142857142857143\n",
            "1/1 [==============================] - 0s 51ms/step\n",
            "1/1 [==============================] - 0s 53ms/step\n",
            "1/1 [==============================] - 0s 48ms/step\n",
            "1/1 [==============================] - 0s 49ms/step\n",
            "1/1 [==============================] - 0s 48ms/step\n",
            "1/1 [==============================] - 0s 50ms/step\n",
            "1/1 [==============================] - 0s 47ms/step\n",
            "Accuracy for folder न: 0.8571428571428571\n",
            "1/1 [==============================] - 0s 55ms/step\n",
            "1/1 [==============================] - 0s 50ms/step\n",
            "1/1 [==============================] - 0s 68ms/step\n",
            "1/1 [==============================] - 0s 49ms/step\n",
            "1/1 [==============================] - 0s 32ms/step\n",
            "1/1 [==============================] - 0s 31ms/step\n",
            "1/1 [==============================] - 0s 33ms/step\n",
            "Accuracy for folder प: 1.0\n",
            "1/1 [==============================] - 0s 34ms/step\n",
            "1/1 [==============================] - 0s 31ms/step\n",
            "1/1 [==============================] - 0s 31ms/step\n",
            "1/1 [==============================] - 0s 33ms/step\n",
            "1/1 [==============================] - 0s 32ms/step\n",
            "1/1 [==============================] - 0s 36ms/step\n",
            "1/1 [==============================] - 0s 33ms/step\n",
            "Accuracy for folder फ: 0.5714285714285714\n",
            "1/1 [==============================] - 0s 40ms/step\n",
            "1/1 [==============================] - 0s 37ms/step\n",
            "1/1 [==============================] - 0s 30ms/step\n",
            "1/1 [==============================] - 0s 31ms/step\n",
            "1/1 [==============================] - 0s 37ms/step\n",
            "1/1 [==============================] - 0s 36ms/step\n",
            "1/1 [==============================] - 0s 32ms/step\n",
            "1/1 [==============================] - 0s 33ms/step\n",
            "1/1 [==============================] - 0s 41ms/step\n",
            "Accuracy for folder भ: 0.8888888888888888\n",
            "1/1 [==============================] - 0s 56ms/step\n",
            "1/1 [==============================] - 0s 37ms/step\n",
            "1/1 [==============================] - 0s 39ms/step\n",
            "1/1 [==============================] - 0s 39ms/step\n",
            "1/1 [==============================] - 0s 44ms/step\n",
            "1/1 [==============================] - 0s 36ms/step\n",
            "1/1 [==============================] - 0s 35ms/step\n",
            "Accuracy for folder ब: 0.8571428571428571\n",
            "1/1 [==============================] - 0s 43ms/step\n",
            "1/1 [==============================] - 0s 39ms/step\n",
            "1/1 [==============================] - 0s 32ms/step\n",
            "1/1 [==============================] - 0s 30ms/step\n",
            "1/1 [==============================] - 0s 32ms/step\n",
            "1/1 [==============================] - 0s 39ms/step\n",
            "1/1 [==============================] - 0s 34ms/step\n",
            "Accuracy for folder य: 0.8571428571428571\n",
            "1/1 [==============================] - 0s 32ms/step\n",
            "1/1 [==============================] - 0s 38ms/step\n",
            "1/1 [==============================] - 0s 32ms/step\n",
            "1/1 [==============================] - 0s 32ms/step\n",
            "1/1 [==============================] - 0s 33ms/step\n",
            "1/1 [==============================] - 0s 34ms/step\n",
            "1/1 [==============================] - 0s 44ms/step\n",
            "Accuracy for folder म: 1.0\n",
            "1/1 [==============================] - 0s 40ms/step\n",
            "1/1 [==============================] - 0s 48ms/step\n",
            "1/1 [==============================] - 0s 36ms/step\n",
            "1/1 [==============================] - 0s 37ms/step\n",
            "1/1 [==============================] - 0s 37ms/step\n",
            "1/1 [==============================] - 0s 36ms/step\n",
            "1/1 [==============================] - 0s 36ms/step\n",
            "Accuracy for folder र: 0.42857142857142855\n",
            "1/1 [==============================] - 0s 35ms/step\n",
            "1/1 [==============================] - 0s 38ms/step\n",
            "1/1 [==============================] - 0s 40ms/step\n",
            "1/1 [==============================] - 0s 37ms/step\n",
            "1/1 [==============================] - 0s 35ms/step\n",
            "1/1 [==============================] - 0s 40ms/step\n",
            "1/1 [==============================] - 0s 42ms/step\n",
            "Accuracy for folder व: 0.7142857142857143\n",
            "1/1 [==============================] - 0s 38ms/step\n",
            "1/1 [==============================] - 0s 37ms/step\n",
            "1/1 [==============================] - 0s 48ms/step\n",
            "1/1 [==============================] - 0s 40ms/step\n",
            "1/1 [==============================] - 0s 33ms/step\n",
            "1/1 [==============================] - 0s 33ms/step\n",
            "1/1 [==============================] - 0s 33ms/step\n",
            "Accuracy for folder ल: 0.8571428571428571\n",
            "1/1 [==============================] - 0s 37ms/step\n",
            "1/1 [==============================] - 0s 32ms/step\n",
            "1/1 [==============================] - 0s 31ms/step\n",
            "1/1 [==============================] - 0s 32ms/step\n",
            "1/1 [==============================] - 0s 34ms/step\n",
            "1/1 [==============================] - 0s 33ms/step\n",
            "1/1 [==============================] - 0s 32ms/step\n",
            "Accuracy for folder श: 0.7142857142857143\n",
            "1/1 [==============================] - 0s 41ms/step\n",
            "1/1 [==============================] - 0s 33ms/step\n",
            "1/1 [==============================] - 0s 35ms/step\n",
            "1/1 [==============================] - 0s 33ms/step\n",
            "1/1 [==============================] - 0s 36ms/step\n",
            "1/1 [==============================] - 0s 30ms/step\n",
            "1/1 [==============================] - 0s 31ms/step\n",
            "Accuracy for folder स: 0.8571428571428571\n",
            "1/1 [==============================] - 0s 31ms/step\n",
            "1/1 [==============================] - 0s 30ms/step\n",
            "1/1 [==============================] - 0s 30ms/step\n",
            "1/1 [==============================] - 0s 30ms/step\n",
            "1/1 [==============================] - 0s 32ms/step\n",
            "1/1 [==============================] - 0s 32ms/step\n",
            "1/1 [==============================] - 0s 34ms/step\n",
            "Accuracy for folder ह: 0.7142857142857143\n",
            "Overall accuracy: 0.7823343848580442\n"
          ]
        }
      ]
    },
    {
      "cell_type": "markdown",
      "source": [
        "# Model summary"
      ],
      "metadata": {
        "id": "i6_3xZ2w3vz-"
      }
    },
    {
      "cell_type": "code",
      "source": [
        "model.summary()"
      ],
      "metadata": {
        "colab": {
          "base_uri": "https://localhost:8080/"
        },
        "id": "_1DXfg8P3z0r",
        "outputId": "78472660-e0f9-4812-eb6e-e45dce3f2601"
      },
      "execution_count": null,
      "outputs": [
        {
          "output_type": "stream",
          "name": "stdout",
          "text": [
            "Model: \"sequential_1\"\n",
            "_________________________________________________________________\n",
            " Layer (type)                Output Shape              Param #   \n",
            "=================================================================\n",
            " conv2d_2 (Conv2D)           (None, 62, 62, 32)        896       \n",
            "                                                                 \n",
            " max_pooling2d_2 (MaxPooling  (None, 31, 31, 32)       0         \n",
            " 2D)                                                             \n",
            "                                                                 \n",
            " conv2d_3 (Conv2D)           (None, 29, 29, 64)        18496     \n",
            "                                                                 \n",
            " max_pooling2d_3 (MaxPooling  (None, 14, 14, 64)       0         \n",
            " 2D)                                                             \n",
            "                                                                 \n",
            " conv2d_4 (Conv2D)           (None, 12, 12, 64)        36928     \n",
            "                                                                 \n",
            " max_pooling2d_4 (MaxPooling  (None, 6, 6, 64)         0         \n",
            " 2D)                                                             \n",
            "                                                                 \n",
            " flatten_1 (Flatten)         (None, 2304)              0         \n",
            "                                                                 \n",
            " dense_2 (Dense)             (None, 128)               295040    \n",
            "                                                                 \n",
            " dense_3 (Dense)             (None, 43)                5547      \n",
            "                                                                 \n",
            "=================================================================\n",
            "Total params: 356,907\n",
            "Trainable params: 356,907\n",
            "Non-trainable params: 0\n",
            "_________________________________________________________________\n"
          ]
        }
      ]
    },
    {
      "cell_type": "code",
      "source": [
        "from tensorflow.keras.utils import plot_model\n",
        "plot_model(model, to_file='model.png', show_shapes=True)"
      ],
      "metadata": {
        "colab": {
          "base_uri": "https://localhost:8080/",
          "height": 1000
        },
        "id": "zgZDYafK34qI",
        "outputId": "fbc7da3c-718d-42d8-d629-da96bbaa989f"
      },
      "execution_count": null,
      "outputs": [
        {
          "output_type": "execute_result",
          "data": {
            "image/png": "[encoded data removed]",
            "text/plain": [
              "<IPython.core.display.Image object>"
            ]
          },
          "metadata": {},
          "execution_count": 190
        }
      ]
    },
    {
      "cell_type": "code",
      "source": [
        "for layer in model.layers:\n",
        "    print(layer.name, layer.output_shape)"
      ],
      "metadata": {
        "colab": {
          "base_uri": "https://localhost:8080/"
        },
        "id": "e7_DP0mP3-XH",
        "outputId": "9bf1166d-0641-4e51-abab-f192e2a93549"
      },
      "execution_count": null,
      "outputs": [
        {
          "output_type": "stream",
          "name": "stdout",
          "text": [
            "conv2d_2 (None, 62, 62, 32)\n",
            "max_pooling2d_2 (None, 31, 31, 32)\n",
            "conv2d_3 (None, 29, 29, 64)\n",
            "max_pooling2d_3 (None, 14, 14, 64)\n",
            "conv2d_4 (None, 12, 12, 64)\n",
            "max_pooling2d_4 (None, 6, 6, 64)\n",
            "flatten_1 (None, 2304)\n",
            "dense_2 (None, 128)\n",
            "dense_3 (None, 43)\n"
          ]
        }
      ]
    }
  ]
}